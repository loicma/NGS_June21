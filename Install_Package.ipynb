{
 "cells": [
  {
   "cell_type": "markdown",
   "id": "2901f5c0",
   "metadata": {},
   "source": [
    "## Install new Package under JupiterLab"
   ]
  },
  {
   "cell_type": "code",
   "execution_count": 1,
   "id": "238989cb",
   "metadata": {},
   "outputs": [
    {
     "name": "stdout",
     "output_type": "stream",
     "text": [
      "path\n",
      "$PATH\n"
     ]
    },
    {
     "data": {
      "text/plain": [
       "['C:\\\\Users\\\\LM167708\\\\Notebook_NGS',\n",
       " 'C:\\\\Users\\\\LM167708\\\\AppData\\\\Local\\\\Continuum\\\\anaconda3\\\\python37.zip',\n",
       " 'C:\\\\Users\\\\LM167708\\\\AppData\\\\Local\\\\Continuum\\\\anaconda3\\\\DLLs',\n",
       " 'C:\\\\Users\\\\LM167708\\\\AppData\\\\Local\\\\Continuum\\\\anaconda3\\\\lib',\n",
       " 'C:\\\\Users\\\\LM167708\\\\AppData\\\\Local\\\\Continuum\\\\anaconda3',\n",
       " '',\n",
       " 'C:\\\\Users\\\\LM167708\\\\AppData\\\\Local\\\\Continuum\\\\anaconda3\\\\lib\\\\site-packages',\n",
       " 'C:\\\\Users\\\\LM167708\\\\AppData\\\\Local\\\\Continuum\\\\anaconda3\\\\lib\\\\site-packages\\\\locket-0.2.1-py3.7.egg',\n",
       " 'C:\\\\Users\\\\LM167708\\\\AppData\\\\Local\\\\Continuum\\\\anaconda3\\\\lib\\\\site-packages\\\\win32',\n",
       " 'C:\\\\Users\\\\LM167708\\\\AppData\\\\Local\\\\Continuum\\\\anaconda3\\\\lib\\\\site-packages\\\\win32\\\\lib',\n",
       " 'C:\\\\Users\\\\LM167708\\\\AppData\\\\Local\\\\Continuum\\\\anaconda3\\\\lib\\\\site-packages\\\\Pythonwin',\n",
       " 'C:\\\\Users\\\\LM167708\\\\AppData\\\\Local\\\\Continuum\\\\anaconda3\\\\lib\\\\site-packages\\\\IPython\\\\extensions',\n",
       " 'C:\\\\Users\\\\LM167708\\\\.ipython']"
      ]
     },
     "execution_count": 1,
     "metadata": {},
     "output_type": "execute_result"
    }
   ],
   "source": [
    "import sys\n",
    "!echo path\n",
    "!echo $PATH\n",
    "sys.path"
   ]
  },
  {
   "cell_type": "code",
   "execution_count": 2,
   "id": "ea4f867f",
   "metadata": {},
   "outputs": [
    {
     "name": "stdout",
     "output_type": "stream",
     "text": [
      "# conda environments:\n",
      "#\n",
      "base                  *  C:\\Users\\LM167708\\AppData\\Local\\Continuum\\anaconda3\n",
      "Pacbio_tools             C:\\Users\\LM167708\\AppData\\Local\\Continuum\\anaconda3\\envs\\Pacbio_tools\n",
      "simple                   C:\\Users\\LM167708\\AppData\\Local\\Continuum\\anaconda3\\envs\\simple\n",
      "\n"
     ]
    }
   ],
   "source": [
    "!conda env list "
   ]
  },
  {
   "cell_type": "code",
   "execution_count": 6,
   "id": "e2cf81c7",
   "metadata": {
    "tags": []
   },
   "outputs": [
    {
     "name": "stdout",
     "output_type": "stream",
     "text": [
      "Collecting pandas_bokeh\n",
      "  Using cached pandas_bokeh-0.5.5-py2.py3-none-any.whl (29 kB)\n",
      "Requirement already satisfied: pandas>=0.22.0 in c:\\users\\lm167708\\appdata\\local\\continuum\\anaconda3\\lib\\site-packages (from pandas_bokeh) (1.2.4)\n",
      "Requirement already satisfied: bokeh>=2.0 in c:\\users\\lm167708\\appdata\\local\\continuum\\anaconda3\\lib\\site-packages (from pandas_bokeh) (2.3.2)\n",
      "Requirement already satisfied: packaging>=16.8 in c:\\users\\lm167708\\appdata\\local\\continuum\\anaconda3\\lib\\site-packages (from bokeh>=2.0->pandas_bokeh) (20.9)\n",
      "Requirement already satisfied: Jinja2>=2.9 in c:\\users\\lm167708\\appdata\\local\\continuum\\anaconda3\\lib\\site-packages (from bokeh>=2.0->pandas_bokeh) (2.11.3)\n",
      "Requirement already satisfied: tornado>=5.1 in c:\\users\\lm167708\\appdata\\local\\continuum\\anaconda3\\lib\\site-packages (from bokeh>=2.0->pandas_bokeh) (6.1)\n",
      "Requirement already satisfied: typing-extensions>=3.7.4 in c:\\users\\lm167708\\appdata\\local\\continuum\\anaconda3\\lib\\site-packages (from bokeh>=2.0->pandas_bokeh) (3.7.4.3)\n",
      "Requirement already satisfied: PyYAML>=3.10 in c:\\users\\lm167708\\appdata\\local\\continuum\\anaconda3\\lib\\site-packages (from bokeh>=2.0->pandas_bokeh) (5.4.1)\n",
      "Requirement already satisfied: python-dateutil>=2.1 in c:\\users\\lm167708\\appdata\\local\\continuum\\anaconda3\\lib\\site-packages (from bokeh>=2.0->pandas_bokeh) (2.8.1)\n",
      "Requirement already satisfied: numpy>=1.11.3 in c:\\users\\lm167708\\appdata\\local\\continuum\\anaconda3\\lib\\site-packages (from bokeh>=2.0->pandas_bokeh) (1.20.1)\n",
      "Requirement already satisfied: pillow>=7.1.0 in c:\\users\\lm167708\\appdata\\local\\continuum\\anaconda3\\lib\\site-packages (from bokeh>=2.0->pandas_bokeh) (8.2.0)\n",
      "Requirement already satisfied: MarkupSafe>=0.23 in c:\\users\\lm167708\\appdata\\local\\continuum\\anaconda3\\lib\\site-packages (from Jinja2>=2.9->bokeh>=2.0->pandas_bokeh) (1.1.1)\n",
      "Requirement already satisfied: pyparsing>=2.0.2 in c:\\users\\lm167708\\appdata\\local\\continuum\\anaconda3\\lib\\site-packages (from packaging>=16.8->bokeh>=2.0->pandas_bokeh) (2.4.7)\n",
      "Requirement already satisfied: pytz>=2017.3 in c:\\users\\lm167708\\appdata\\local\\continuum\\anaconda3\\lib\\site-packages (from pandas>=0.22.0->pandas_bokeh) (2021.1)\n",
      "Requirement already satisfied: six>=1.5 in c:\\users\\lm167708\\appdata\\local\\continuum\\anaconda3\\lib\\site-packages (from python-dateutil>=2.1->bokeh>=2.0->pandas_bokeh) (1.15.0)\n",
      "Installing collected packages: pandas-bokeh\n",
      "Successfully installed pandas-bokeh-0.5.5\n"
     ]
    }
   ],
   "source": [
    "!{sys.executable} -m pip install pandas_bokeh"
   ]
  },
  {
   "cell_type": "code",
   "execution_count": 4,
   "id": "148ac25b",
   "metadata": {},
   "outputs": [
    {
     "name": "stdout",
     "output_type": "stream",
     "text": [
      "\n"
     ]
    },
    {
     "name": "stderr",
     "output_type": "stream",
     "text": [
      "Building jupyterlab assets (production, minimized)\n"
     ]
    }
   ],
   "source": [
    "!jupyter labextension install jupyterlab_3dmol"
   ]
  },
  {
   "cell_type": "code",
   "execution_count": 13,
   "id": "29c6846c",
   "metadata": {},
   "outputs": [
    {
     "name": "stderr",
     "output_type": "stream",
     "text": [
      "\n",
      "UnavailableInvalidChannel: The channel is not accessible or is invalid.\n",
      "  channel name: notebook>=5.3\n",
      "  channel url: https://conda.anaconda.org/notebook>=5.3\n",
      "  error code: 404\n",
      "\n",
      "You will need to adjust your conda configuration to proceed.\n",
      "Use `conda config --show channels` to view your configuration's current state,\n",
      "and use `conda config --show-sources` to view config file locations.\n",
      "\n",
      "\n"
     ]
    },
    {
     "name": "stdout",
     "output_type": "stream",
     "text": [
      "Collecting package metadata (current_repodata.json): ...working... failed\n"
     ]
    }
   ],
   "source": [
    "!conda install -c \"notebook>=5.3\" \"ipywidgets>=7.5\""
   ]
  },
  {
   "cell_type": "code",
   "execution_count": 8,
   "id": "f0537c2f",
   "metadata": {},
   "outputs": [
    {
     "name": "stdout",
     "output_type": "stream",
     "text": [
      "^C\n"
     ]
    }
   ],
   "source": [
    "#!conda install -c conda-forge nodejs"
   ]
  },
  {
   "cell_type": "code",
   "execution_count": 11,
   "id": "c95899bb",
   "metadata": {},
   "outputs": [
    {
     "name": "stdout",
     "output_type": "stream",
     "text": [
      "^C\n"
     ]
    }
   ],
   "source": [
    "#!conda install nodejs"
   ]
  },
  {
   "cell_type": "code",
   "execution_count": 12,
   "id": "da505c3a",
   "metadata": {},
   "outputs": [
    {
     "name": "stderr",
     "output_type": "stream",
     "text": [
      "Error executing Jupyter command 'lab': [WinError 5] Accès refusé\n"
     ]
    }
   ],
   "source": [
    "#!jupyter lab build"
   ]
  },
  {
   "cell_type": "code",
   "execution_count": 13,
   "id": "ea9c6a65",
   "metadata": {},
   "outputs": [
    {
     "name": "stderr",
     "output_type": "stream",
     "text": [
      "Error executing Jupyter command 'labextension': [WinError 5] Accès refusé\n"
     ]
    }
   ],
   "source": [
    "!jupyter labextension install jupyterlab-drawio"
   ]
  },
  {
   "cell_type": "code",
   "execution_count": 4,
   "id": "dd284ef2",
   "metadata": {},
   "outputs": [
    {
     "name": "stderr",
     "output_type": "stream",
     "text": [
      "[W:pyppeteer.chromium_downloader] Starting Chromium download. Download may take a few minutes.\n",
      "\n",
      "  0%|          | 0.00/137M [00:00<?, ?b/s]\n",
      "  7%|6         | 9.12M/137M [00:00<00:01, 83.5Mb/s]\n",
      " 17%|#6        | 22.7M/137M [00:00<00:01, 107Mb/s] \n",
      " 24%|##4       | 33.4M/137M [00:00<00:01, 103Mb/s]\n",
      " 32%|###2      | 44.3M/137M [00:00<00:00, 102Mb/s]\n",
      " 41%|####      | 55.5M/137M [00:00<00:00, 104Mb/s]\n",
      " 50%|####9     | 67.9M/137M [00:00<00:00, 107Mb/s]\n",
      " 58%|#####7    | 79.1M/137M [00:00<00:00, 106Mb/s]\n",
      " 68%|######8   | 93.6M/137M [00:00<00:00, 114Mb/s]\n",
      " 77%|#######6  | 105M/137M [00:00<00:00, 111Mb/s] \n",
      " 85%|########4 | 116M/137M [00:01<00:00, 104Mb/s]\n",
      " 93%|#########2| 127M/137M [00:01<00:00, 102Mb/s]\n",
      "100%|##########| 137M/137M [00:01<00:00, 109Mb/s]\n",
      "[W:pyppeteer.chromium_downloader] Chromium download done.\n",
      "[W:pyppeteer.chromium_downloader] chromium extracted to: C:\\Users\\LM167708\\AppData\\Local\\pyppeteer\\pyppeteer\\local-chromium\\588429\n"
     ]
    }
   ],
   "source": [
    "#!pyppeteer-install"
   ]
  },
  {
   "cell_type": "markdown",
   "id": "f3d07bb0",
   "metadata": {},
   "source": [
    "## Sauvegarder en format HTML un fichier s'appelant \"Install_Package.ipynb\""
   ]
  },
  {
   "cell_type": "code",
   "execution_count": 6,
   "id": "dd40ca4c",
   "metadata": {},
   "outputs": [
    {
     "name": "stderr",
     "output_type": "stream",
     "text": [
      "[NbConvertApp] Converting notebook Install_Package.ipynb to html\n",
      "[NbConvertApp] Writing 591292 bytes to Install_Package.html\n"
     ]
    }
   ],
   "source": [
    "!jupyter nbconvert --execute --to html Install_Package.ipynb"
   ]
  },
  {
   "cell_type": "markdown",
   "id": "c94d2b2d",
   "metadata": {},
   "source": [
    "### Pour l'instant, je n'arrive pas à exporter en pdf"
   ]
  },
  {
   "cell_type": "code",
   "execution_count": null,
   "id": "a7e471ab",
   "metadata": {},
   "outputs": [],
   "source": [
    "#!jupyter nbconvert --execute --to pdfviahtml Install_Package.ipynb"
   ]
  },
  {
   "cell_type": "code",
   "execution_count": 1,
   "id": "85bded1f",
   "metadata": {},
   "outputs": [
    {
     "data": {
      "application/javascript": [
       "IPython.notebook.save_notebook()\n"
      ],
      "text/plain": [
       "<IPython.core.display.Javascript object>"
      ]
     },
     "metadata": {},
     "output_type": "display_data"
    }
   ],
   "source": [
    "#%%javascript\n",
    "#IPython.notebook.save_notebook()"
   ]
  },
  {
   "cell_type": "code",
   "execution_count": null,
   "id": "9cbd7e48",
   "metadata": {},
   "outputs": [],
   "source": []
  }
 ],
 "metadata": {
  "kernelspec": {
   "display_name": "Python 3",
   "language": "python",
   "name": "python3"
  },
  "language_info": {
   "codemirror_mode": {
    "name": "ipython",
    "version": 3
   },
   "file_extension": ".py",
   "mimetype": "text/x-python",
   "name": "python",
   "nbconvert_exporter": "python",
   "pygments_lexer": "ipython3",
   "version": "3.7.10"
  }
 },
 "nbformat": 4,
 "nbformat_minor": 5
}
