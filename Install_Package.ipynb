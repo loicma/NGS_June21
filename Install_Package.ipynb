{
 "cells": [
  {
   "cell_type": "markdown",
   "id": "2901f5c0",
   "metadata": {},
   "source": [
    "## Install new Package under JupiterLab"
   ]
  },
  {
   "cell_type": "code",
   "execution_count": 1,
   "id": "238989cb",
   "metadata": {},
   "outputs": [
    {
     "name": "stdout",
     "output_type": "stream",
     "text": [
      "path\n",
      "$PATH\n"
     ]
    },
    {
     "data": {
      "text/plain": [
       "['c:\\\\Users\\\\LM167708\\\\github_loicma\\\\NGS_June22',\n",
       " 'C:\\\\Program Files\\\\WindowsApps\\\\PythonSoftwareFoundation.Python.3.9_3.9.3568.0_x64__qbz5n2kfra8p0\\\\python39.zip',\n",
       " 'C:\\\\Program Files\\\\WindowsApps\\\\PythonSoftwareFoundation.Python.3.9_3.9.3568.0_x64__qbz5n2kfra8p0\\\\DLLs',\n",
       " 'C:\\\\Program Files\\\\WindowsApps\\\\PythonSoftwareFoundation.Python.3.9_3.9.3568.0_x64__qbz5n2kfra8p0\\\\lib',\n",
       " 'C:\\\\Users\\\\LM167708\\\\AppData\\\\Local\\\\Microsoft\\\\WindowsApps\\\\PythonSoftwareFoundation.Python.3.9_qbz5n2kfra8p0',\n",
       " '',\n",
       " 'C:\\\\Users\\\\LM167708\\\\AppData\\\\Local\\\\Packages\\\\PythonSoftwareFoundation.Python.3.9_qbz5n2kfra8p0\\\\LocalCache\\\\local-packages\\\\Python39\\\\site-packages',\n",
       " 'C:\\\\Users\\\\LM167708\\\\AppData\\\\Local\\\\Packages\\\\PythonSoftwareFoundation.Python.3.9_qbz5n2kfra8p0\\\\LocalCache\\\\local-packages\\\\Python39\\\\site-packages\\\\win32',\n",
       " 'C:\\\\Users\\\\LM167708\\\\AppData\\\\Local\\\\Packages\\\\PythonSoftwareFoundation.Python.3.9_qbz5n2kfra8p0\\\\LocalCache\\\\local-packages\\\\Python39\\\\site-packages\\\\win32\\\\lib',\n",
       " 'C:\\\\Users\\\\LM167708\\\\AppData\\\\Local\\\\Packages\\\\PythonSoftwareFoundation.Python.3.9_qbz5n2kfra8p0\\\\LocalCache\\\\local-packages\\\\Python39\\\\site-packages\\\\Pythonwin',\n",
       " 'C:\\\\Program Files\\\\WindowsApps\\\\PythonSoftwareFoundation.Python.3.9_3.9.3568.0_x64__qbz5n2kfra8p0',\n",
       " 'C:\\\\Program Files\\\\WindowsApps\\\\PythonSoftwareFoundation.Python.3.9_3.9.3568.0_x64__qbz5n2kfra8p0\\\\lib\\\\site-packages']"
      ]
     },
     "execution_count": 1,
     "metadata": {},
     "output_type": "execute_result"
    }
   ],
   "source": [
    "import sys\n",
    "!echo path\n",
    "!echo $PATH\n",
    "sys.path"
   ]
  },
  {
   "cell_type": "code",
   "execution_count": 2,
   "id": "ea4f867f",
   "metadata": {},
   "outputs": [
    {
     "name": "stderr",
     "output_type": "stream",
     "text": [
      "'conda' n'est pas reconnu en tant que commande interne\n",
      "ou externe, un programme ex�cutable ou un fichier de commandes.\n"
     ]
    }
   ],
   "source": [
    "!conda env list "
   ]
  },
  {
   "cell_type": "code",
   "execution_count": 13,
   "id": "e2cf81c7",
   "metadata": {
    "tags": []
   },
   "outputs": [
    {
     "name": "stdout",
     "output_type": "stream",
     "text": [
      "Collecting py3Dmol\n",
      "  Using cached py3Dmol-1.8.0-py2.py3-none-any.whl (6.4 kB)\n",
      "Installing collected packages: py3Dmol\n",
      "Successfully installed py3Dmol-1.8.0\n"
     ]
    }
   ],
   "source": [
    "!{sys.executable} -m pip install py3Dmol"
   ]
  },
  {
   "cell_type": "code",
   "execution_count": 4,
   "id": "148ac25b",
   "metadata": {},
   "outputs": [
    {
     "name": "stdout",
     "output_type": "stream",
     "text": [
      "\n"
     ]
    },
    {
     "name": "stderr",
     "output_type": "stream",
     "text": [
      "Building jupyterlab assets (production, minimized)\n"
     ]
    }
   ],
   "source": [
    "!jupyter labextension install jupyterlab_3dmol"
   ]
  },
  {
   "cell_type": "code",
   "execution_count": 13,
   "id": "29c6846c",
   "metadata": {},
   "outputs": [
    {
     "name": "stderr",
     "output_type": "stream",
     "text": [
      "\n",
      "UnavailableInvalidChannel: The channel is not accessible or is invalid.\n",
      "  channel name: notebook>=5.3\n",
      "  channel url: https://conda.anaconda.org/notebook>=5.3\n",
      "  error code: 404\n",
      "\n",
      "You will need to adjust your conda configuration to proceed.\n",
      "Use `conda config --show channels` to view your configuration's current state,\n",
      "and use `conda config --show-sources` to view config file locations.\n",
      "\n",
      "\n"
     ]
    },
    {
     "name": "stdout",
     "output_type": "stream",
     "text": [
      "Collecting package metadata (current_repodata.json): ...working... failed\n"
     ]
    }
   ],
   "source": [
    "#!conda install -c \"notebook>=5.3\" \"ipywidgets>=7.5\""
   ]
  },
  {
   "cell_type": "code",
   "execution_count": 5,
   "id": "f0537c2f",
   "metadata": {},
   "outputs": [
    {
     "name": "stdout",
     "output_type": "stream",
     "text": [
      "Requirement already satisfied: pip in c:\\program files\\windowsapps\\pythonsoftwarefoundation.python.3.9_3.9.3568.0_x64__qbz5n2kfra8p0\\lib\\site-packages (22.0.4)\n",
      "Collecting pip\n",
      "  Downloading pip-22.2-py3-none-any.whl (2.0 MB)\n",
      "     ---------------------------------------- 2.0/2.0 MB 10.0 MB/s eta 0:00:00\n",
      "Installing collected packages: pip\n",
      "Successfully installed pip-22.2\n"
     ]
    },
    {
     "name": "stderr",
     "output_type": "stream",
     "text": [
      "  WARNING: The scripts pip.exe, pip3.9.exe and pip3.exe are installed in 'C:\\Users\\LM167708\\AppData\\Local\\Packages\\PythonSoftwareFoundation.Python.3.9_qbz5n2kfra8p0\\LocalCache\\local-packages\\Python39\\Scripts' which is not on PATH.\n",
      "  Consider adding this directory to PATH or, if you prefer to suppress this warning, use --no-warn-script-location.\n",
      "WARNING: You are using pip version 22.0.4; however, version 22.2 is available.\n",
      "You should consider upgrading via the 'C:\\Users\\LM167708\\AppData\\Local\\Microsoft\\WindowsApps\\PythonSoftwareFoundation.Python.3.9_qbz5n2kfra8p0\\python.exe -m pip install --upgrade pip' command.\n"
     ]
    }
   ],
   "source": [
    "# upgrade la version de pip\n",
    "!{sys.executable} -m pip install --upgrade pip"
   ]
  },
  {
   "cell_type": "code",
   "execution_count": 7,
   "id": "c95899bb",
   "metadata": {},
   "outputs": [
    {
     "name": "stdout",
     "output_type": "stream",
     "text": [
      "pip 22.2 from C:\\Users\\LM167708\\AppData\\Local\\Packages\\PythonSoftwareFoundation.Python.3.9_qbz5n2kfra8p0\\LocalCache\\local-packages\\Python39\\site-packages\\pip (python 3.9)\n",
      "\n"
     ]
    }
   ],
   "source": [
    "# Affiche la version actuelle de pip\n",
    "!{sys.executable} -m pip --version"
   ]
  },
  {
   "cell_type": "code",
   "execution_count": 12,
   "id": "da505c3a",
   "metadata": {},
   "outputs": [
    {
     "name": "stderr",
     "output_type": "stream",
     "text": [
      "Error executing Jupyter command 'lab': [WinError 5] Accès refusé\n"
     ]
    }
   ],
   "source": [
    "#!jupyter lab build"
   ]
  },
  {
   "cell_type": "code",
   "execution_count": 13,
   "id": "ea9c6a65",
   "metadata": {},
   "outputs": [
    {
     "name": "stderr",
     "output_type": "stream",
     "text": [
      "Error executing Jupyter command 'labextension': [WinError 5] Accès refusé\n"
     ]
    }
   ],
   "source": [
    "!jupyter labextension install jupyterlab-drawio"
   ]
  },
  {
   "cell_type": "code",
   "execution_count": 4,
   "id": "dd284ef2",
   "metadata": {},
   "outputs": [
    {
     "name": "stderr",
     "output_type": "stream",
     "text": [
      "[W:pyppeteer.chromium_downloader] Starting Chromium download. Download may take a few minutes.\n",
      "\n",
      "  0%|          | 0.00/137M [00:00<?, ?b/s]\n",
      "  7%|6         | 9.12M/137M [00:00<00:01, 83.5Mb/s]\n",
      " 17%|#6        | 22.7M/137M [00:00<00:01, 107Mb/s] \n",
      " 24%|##4       | 33.4M/137M [00:00<00:01, 103Mb/s]\n",
      " 32%|###2      | 44.3M/137M [00:00<00:00, 102Mb/s]\n",
      " 41%|####      | 55.5M/137M [00:00<00:00, 104Mb/s]\n",
      " 50%|####9     | 67.9M/137M [00:00<00:00, 107Mb/s]\n",
      " 58%|#####7    | 79.1M/137M [00:00<00:00, 106Mb/s]\n",
      " 68%|######8   | 93.6M/137M [00:00<00:00, 114Mb/s]\n",
      " 77%|#######6  | 105M/137M [00:00<00:00, 111Mb/s] \n",
      " 85%|########4 | 116M/137M [00:01<00:00, 104Mb/s]\n",
      " 93%|#########2| 127M/137M [00:01<00:00, 102Mb/s]\n",
      "100%|##########| 137M/137M [00:01<00:00, 109Mb/s]\n",
      "[W:pyppeteer.chromium_downloader] Chromium download done.\n",
      "[W:pyppeteer.chromium_downloader] chromium extracted to: C:\\Users\\LM167708\\AppData\\Local\\pyppeteer\\pyppeteer\\local-chromium\\588429\n"
     ]
    }
   ],
   "source": [
    "#!pyppeteer-install"
   ]
  },
  {
   "cell_type": "markdown",
   "id": "f3d07bb0",
   "metadata": {},
   "source": [
    "## Sauvegarder en format HTML un fichier s'appelant \"Install_Package.ipynb\""
   ]
  },
  {
   "cell_type": "code",
   "execution_count": 6,
   "id": "dd40ca4c",
   "metadata": {},
   "outputs": [
    {
     "name": "stderr",
     "output_type": "stream",
     "text": [
      "[NbConvertApp] Converting notebook Install_Package.ipynb to html\n",
      "[NbConvertApp] Writing 591292 bytes to Install_Package.html\n"
     ]
    }
   ],
   "source": [
    "!jupyter nbconvert --execute --to html Install_Package.ipynb"
   ]
  },
  {
   "cell_type": "markdown",
   "id": "c94d2b2d",
   "metadata": {},
   "source": [
    "### Pour l'instant, je n'arrive pas à exporter en pdf"
   ]
  },
  {
   "cell_type": "code",
   "execution_count": null,
   "id": "a7e471ab",
   "metadata": {},
   "outputs": [],
   "source": [
    "#!jupyter nbconvert --execute --to pdfviahtml Install_Package.ipynb"
   ]
  },
  {
   "cell_type": "code",
   "execution_count": 1,
   "id": "85bded1f",
   "metadata": {},
   "outputs": [
    {
     "data": {
      "application/javascript": "IPython.notebook.save_notebook()\n",
      "text/plain": [
       "<IPython.core.display.Javascript object>"
      ]
     },
     "metadata": {},
     "output_type": "display_data"
    }
   ],
   "source": [
    "#%%javascript\n",
    "#IPython.notebook.save_notebook()"
   ]
  },
  {
   "cell_type": "code",
   "execution_count": null,
   "id": "9cbd7e48",
   "metadata": {},
   "outputs": [],
   "source": []
  }
 ],
 "metadata": {
  "kernelspec": {
   "display_name": "Python 3.9.13 64-bit (windows store)",
   "language": "python",
   "name": "python3"
  },
  "language_info": {
   "codemirror_mode": {
    "name": "ipython",
    "version": 3
   },
   "file_extension": ".py",
   "mimetype": "text/x-python",
   "name": "python",
   "nbconvert_exporter": "python",
   "pygments_lexer": "ipython3",
   "version": "3.9.13"
  },
  "vscode": {
   "interpreter": {
    "hash": "5c4e19200a865be01b1645dcdedba0125c99237d1bb81854800595d938e91b3d"
   }
  }
 },
 "nbformat": 4,
 "nbformat_minor": 5
}
