{
 "cells": [
  {
   "cell_type": "code",
   "execution_count": 1,
   "id": "9fa9ba4a-f51e-44dc-8c2e-84a247e40982",
   "metadata": {},
   "outputs": [
    {
     "name": "stdout",
     "output_type": "stream",
     "text": [
      "total 57M\n",
      "drwxrwxr-x  4 loicma loicma 4,0K nov.  15 14:02 .\n",
      "drwxr-x--- 43 loicma loicma 4,0K nov.  14 13:54 ..\n",
      "-rw-rw-r--  1 loicma loicma 2,2K nov.  14 13:45 3_etoiles.txt\n",
      "-rw-r--r--  1 loicma loicma 2,1M juil. 18 12:42 5m2i.pdb\n",
      "-rw-rw-r--  1 loicma loicma  58K oct.  21 10:49 Alphafold2.png\n",
      "-rw-r--r--  1 loicma loicma 508K juil. 18 17:02 complex.pdb\n",
      "-rw-rw-r--  1 loicma loicma 3,9K sept. 29 13:21 Enrichment.png\n",
      "drwxrwxr-x  8 loicma loicma 4,0K oct.  20 18:29 .git\n",
      "-rw-rw-r--  1 loicma loicma  44K oct.  21 10:49 Haddock_1D_DMS_1.png\n",
      "-rw-rw-r--  1 loicma loicma 151K oct.  21 11:01 Haddock_2D.png\n",
      "-rw-rw-r--  1 loicma loicma 119K oct.  21 10:49 Haddock_WODMS_1.png\n",
      "-rw-r--r--  1 loicma loicma  12K nov.   4 15:19 Install_Package.ipynb\n",
      "-rw-r--r--  1 loicma loicma  12K nov.   4 15:19 Install_Package_v2.ipynb\n",
      "drwxrwxr-x  2 loicma loicma 4,0K nov.  14 13:41 .ipynb_checkpoints\n",
      "-rw-r--r--  1 loicma loicma  35K juil. 26 17:59 Juan_visu.ipynb\n",
      "-rw-r--r--  1 loicma loicma 7,9M juil. 26 17:54 Maison_model3D.ipynb\n",
      "-rw-rw-r--  1 loicma loicma 1,9K nov.  14 13:54 mots.txt\n",
      "-rw-r--r--  1 loicma loicma 8,0M sept. 28 17:10 OK_maison.ipynb\n",
      "-rw-rw-r--  1 loicma loicma 5,8M sept. 28 22:02 OK_maison_WO_ask_res.html\n",
      "-rw-rw-r--  1 loicma loicma 8,0M sept. 28 22:02 OK_maison_WO_ask_res.ipynb\n",
      "-rw-rw-r--  1 loicma loicma   12 oct.  20 18:24 README.md\n",
      "-rw-rw-r--  1 loicma loicma 410K sept. 29 10:24 S30K_S147D.png\n",
      "-rw-rw-r--  1 loicma loicma 9,3K nov.  14 14:33 subprocess.ipynb\n",
      "-rw-r--r--  1 loicma loicma 5,9M juil. 18 18:12 TandemMutantForRun34_model3D.ipynb\n",
      "-rw-r--r--  1 loicma loicma 155K juil. 19 15:26 Try_Tandem.ipynb\n",
      "-rw-rw-r--  1 loicma loicma 450K sept. 29 10:24 Type1_rescue.png\n",
      "-rw-rw-r--  1 loicma loicma 159K sept. 29 10:24 Type2_amplification.png\n",
      "-rw-r--r--  1 loicma loicma   72 juil. 26 18:00 Untitled.ipynb\n",
      "-rw-rw-r--  1 loicma loicma 3,9M sept. 29 14:11 v2_WO_ask_res.html\n",
      "-rw-rw-r--  1 loicma loicma 4,8M sept. 29 14:10 v2_WO_ask_res.ipynb\n",
      "-rw-rw-r--  1 loicma loicma 3,4M nov.   4 15:20 v3_WO_Codes.html\n",
      "-rw-rw-r--  1 loicma loicma 3,8M nov.   4 15:19 v3_WO_Codes.ipynb\n",
      "-rw-r--r--  1 loicma loicma 2,8K juil. 17 18:59 VHH2_copy_ENRICH.out\n",
      "-rw-r--r--  1 loicma loicma 1,2M avril 19  2022 VHH.2-TNF.2_TANDEM_MUT_2_ENRICH.out\n",
      "-rw-rw-r--  1 loicma loicma 581K sept. 29 10:24 W33R_N92D.png\n"
     ]
    }
   ],
   "source": [
    "#!/usr/bin/env python3\n",
    "\n",
    "### MODULES/FUNCTIONS IMPORT ###\n",
    "import subprocess\n",
    "\n",
    "### FUNCTIONS ###\n",
    "# Execute terminal commands and save the output to a logfile\n",
    "def run(cmd):\n",
    "  p = subprocess.Popen(cmd, shell=True, universal_newlines=True)\n",
    "  ret_code = p.wait()\n",
    "  return ret_code\n",
    "\n",
    "cmd = (\"ls -lah\") # Run FoldX to get the ddG value for the mutation. Redirect errors to /dev/null\n",
    "ret_code = run(cmd)"
   ]
  },
  {
   "cell_type": "code",
   "execution_count": 2,
   "id": "9b1214f7",
   "metadata": {},
   "outputs": [
    {
     "name": "stdout",
     "output_type": "stream",
     "text": [
      "SANS DESSUS DESSOUS de (Raymond Devos )\n",
      "Sans dessus dessous\n",
      "Actuellement,\n",
      "mon immeuble est sens dessus dessous.\n",
      "Tous les locataires du dessous\n",
      "voudraient habiter au-dessus!\n",
      "Tout cela parce que le locataire\n",
      "qui est au-dessus\n",
      "est allé raconter par en dessous\n",
      "que l'air que l'on respirait à l'ssh étage au-dessus\n",
      "était meilleur que celui que l'on respirait\n",
      "à l'étage en dessous!\n",
      "Alors, le locataire qui est en dessous\n",
      "a tendance à envier celui qui est au-dessus\n",
      "et à mépriser celui qui est en dessous.\n",
      "Moi, je suis au-dessus de ça!\n",
      "Si je méprise celui qui est en dessous,\n",
      "ce n'est pas parce qu'il est en dessous,\n",
      "c'est parce qu'il convoite l'appartement\n",
      "qui est au-dessus, le mien!\n",
      "Remarquez . . . moi, je lui céderais bien\n",
      "mon appartement à celui du dessous\n",
      "à condition d'obtenir celui du dessus!\n",
      "Mais je ne compte pas trop dessus.\n",
      "D'abord parce que je n'ai pas de sous!\n",
      "Ensuite, au-dessus de celui qui est au-dessus,\n",
      "il n'y a plus d'appartement!\n",
      "Alors, le locataire du dessous\n",
      "qui monterait au-dessus\n",
      "obligerait celui du dessus\n",
      "à redescendre en dessous.\n",
      "Or, je sais que celui du dessus n'y tient pas!\n",
      "D'autant que, comme la femme du dessous\n",
      "est tombée amoureuse de celui du dessus,\n",
      "celui du dessus n'a aucun intérêt à ce que\n",
      "le mari de la femme du dessous\n",
      "monte au-dessus!\n",
      "Alors, là-dessus ...\n",
      "quelqu'un est-il allé raconter à celui du dessous\n",
      "qu'il avait vu sa femme bras dessus,\n",
      "bras dessous avec celui du dessus?\n",
      "Toujours est-il que celui du dessous\n",
      "l'a su!\n",
      "Et un jour que le femme du dessous\n",
      "était allée rejoindre celui du dessus,\n",
      "comme elle retirait ses dessous ...\n",
      "et lui, ses dessus ...\n",
      "soi-disant parce qu'il avait trop chaud en dessous ...\n",
      "Je l'ai su .. parce que d'en dessous,\n",
      "on entend tout ce qui se passe au-dessus ...\n",
      "Bref! Celui du dessous leur est tombé dessus!\n",
      "Comme ils étaient tous les deux soûls,\n",
      "ils se sont tapés dessus!\n",
      "Finalement, c'est celui du dessous\n",
      "qui a eu le dessus!\n"
     ]
    }
   ],
   "source": [
    "cmd = (\"cat mots.txt\")\n",
    "ret_code = run(cmd)"
   ]
  },
  {
   "cell_type": "code",
   "execution_count": 3,
   "id": "8eb3d6df-133b-4ba4-ac6b-1a8c4adc81af",
   "metadata": {},
   "outputs": [
    {
     "name": "stdout",
     "output_type": "stream",
     "text": [
      "Alors, là-dessus ...\n",
      "comme elle retirait ses dessous ...\n",
      "et lui, ses dessus ...\n",
      "soi-disant parce qu'il avait trop chaud en dessous ...\n",
      "Je l'ai su .. parce que d'en dessous,\n",
      "on entend tout ce qui se passe au-dessus ...\n"
     ]
    }
   ],
   "source": [
    "cmd = (\"grep '\\.\\{2,\\}' mots.txt\") # Au moins deux points qui se suivent\n",
    "ret_code = run(cmd)"
   ]
  },
  {
   "cell_type": "code",
   "execution_count": 4,
   "id": "ed0c1689",
   "metadata": {},
   "outputs": [
    {
     "name": "stdout",
     "output_type": "stream",
     "text": [
      "c'est parce qu'il convoite l'appartement\n",
      "mon appartement à celui du dessous\n",
      "il n'y a plus d'appartement!\n"
     ]
    }
   ],
   "source": [
    "cmd = (\"grep '\\>.*p\\{2,\\}' mots.txt\") # Au moins deux p qui se suivent\n",
    "ret_code = run(cmd)"
   ]
  },
  {
   "cell_type": "code",
   "execution_count": 15,
   "id": "6886d349",
   "metadata": {},
   "outputs": [
    {
     "name": "stderr",
     "output_type": "stream",
     "text": [
      "/bin/sh: 1: Syntax error: Unterminated quoted string\n"
     ]
    }
   ],
   "source": [
    "cmd = (\"grep '.*\\('\\).*\\(pa\\).*\\1.*\\2.*' mots.txt\") # \"pa\" séparé par n enchainement de caractères\n",
    "ret_code = run(cmd)"
   ]
  },
  {
   "cell_type": "code",
   "execution_count": 16,
   "id": "0e8dc3e1",
   "metadata": {},
   "outputs": [
    {
     "name": "stdout",
     "output_type": "stream",
     "text": [
      "grep \".*\\('\\).*\\(pa\\).*\\1.*\\2.*\" mots.txt\n",
      "c'est parce qu'il convoite l'appartement\n",
      "D'abord parce que je n'ai pas de sous!\n"
     ]
    }
   ],
   "source": [
    "test= \"grep {}.*\\({}\\).*\\(pa\\).*{}1.*{}2.*{} mots.txt\".format('\"',\"'\",\"\\\\\",\"\\\\\",'\"')\n",
    "print(test)\n",
    "cmd = (test) # \"pa\" séparé par n enchainement de caractères\n",
    "ret_code = run(cmd)"
   ]
  },
  {
   "cell_type": "code",
   "execution_count": 19,
   "id": "1b241810",
   "metadata": {},
   "outputs": [
    {
     "name": "stderr",
     "output_type": "stream",
     "text": [
      "/bin/sh: 1: Syntax error: Unterminated quoted string\n"
     ]
    }
   ],
   "source": [
    "cmd = (\"grep '.*\\('\\).*\\1.*\\1.*' mots.txt\") # Au moins deux p qui se suivent\n",
    "ret_code = run(cmd)"
   ]
  },
  {
   "cell_type": "code",
   "execution_count": 9,
   "id": "21d77d1a",
   "metadata": {},
   "outputs": [
    {
     "name": "stdout",
     "output_type": "stream",
     "text": [
      "grep \".*\\('\\).*\\1.*\\1.*\" mots.txt\n",
      "que l'air que l'on respirait à l'ssh étage au-dessus\n",
      "c'est parce qu'il convoite l'appartement\n"
     ]
    }
   ],
   "source": [
    "test= r\"grep {}.*\\({}\\).*\\1.*\\1.*{} mots.txt\".format('\"',\"'\",'\"')\n",
    "print(test)\n",
    "cmd = (test) # Au moins deux p qui se suivent\n",
    "ret_code = run(cmd)"
   ]
  },
  {
   "cell_type": "code",
   "execution_count": 14,
   "id": "d9aebd4b",
   "metadata": {},
   "outputs": [
    {
     "name": "stdout",
     "output_type": "stream",
     "text": [
      "grep \".*\\('\\).*\\1.*\\1.*\" mots.txt\n",
      "que l'air que l'on respirait à l'ssh étage au-dessus\n",
      "c'est parce qu'il convoite l'appartement\n"
     ]
    }
   ],
   "source": [
    "test= r\"grep {}.*\\({}\\).*\\1.*\\1.*{} mots.txt\".format('\"',\"'\",'\"')\n",
    "print(test)\n",
    "cmd = (test) # Au moins deux p qui se suivent\n",
    "ret_code = run(cmd)"
   ]
  },
  {
   "cell_type": "code",
   "execution_count": 10,
   "id": "0ac91749",
   "metadata": {},
   "outputs": [
    {
     "name": "stdout",
     "output_type": "stream",
     "text": [
      "grep \".*\\('\\).*\\1.*\\1.*\" mots.txt\n",
      "que l'air que l'on respirait à l'ssh étage au-dessus\n",
      "c'est parce qu'il convoite l'appartement\n"
     ]
    }
   ],
   "source": [
    "test= \"grep {}.*\\({}\\).*{}1.*{}1.*{} mots.txt\".format('\"',\"'\",\"\\\\\",\"\\\\\",'\"')\n",
    "print(test)\n",
    "cmd = (test) # Au moins deux p qui se suivent\n",
    "ret_code = run(cmd)"
   ]
  },
  {
   "cell_type": "code",
   "execution_count": 11,
   "id": "d9eedfff",
   "metadata": {},
   "outputs": [
    {
     "name": "stdout",
     "output_type": "stream",
     "text": [
      "Remarquez . . . moi, je lui céderais bien\n"
     ]
    }
   ],
   "source": [
    "cmd = (\"grep 'ez' mots.txt\") # Au moins deux p qui se suivent\n",
    "ret_code = run(cmd)"
   ]
  },
  {
   "cell_type": "code",
   "execution_count": 12,
   "id": "fde76c45",
   "metadata": {},
   "outputs": [
    {
     "name": "stdout",
     "output_type": "stream",
     "text": [
      "Remarquez . . . moi, je lui céderais bien\n"
     ]
    }
   ],
   "source": [
    "cmd = (\"grep 'z' mots.txt\") # Au moins deux p qui se suivent\n",
    "ret_code = run(cmd)"
   ]
  },
  {
   "cell_type": "code",
   "execution_count": null,
   "id": "c903d943",
   "metadata": {},
   "outputs": [],
   "source": []
  }
 ],
 "metadata": {
  "kernelspec": {
   "display_name": "Python 3 (ipykernel)",
   "language": "python",
   "name": "python3"
  },
  "language_info": {
   "codemirror_mode": {
    "name": "ipython",
    "version": 3
   },
   "file_extension": ".py",
   "mimetype": "text/x-python",
   "name": "python",
   "nbconvert_exporter": "python",
   "pygments_lexer": "ipython3",
   "version": "3.10.6"
  }
 },
 "nbformat": 4,
 "nbformat_minor": 5
}
